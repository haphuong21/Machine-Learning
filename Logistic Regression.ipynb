{
 "cells": [
  {
   "cell_type": "markdown",
   "metadata": {},
   "source": [
    "Exercise 3"
   ]
  },
  {
   "cell_type": "code",
   "execution_count": 2,
   "metadata": {},
   "outputs": [],
   "source": [
    "import math\n",
    "import numpy as np\n",
    "import matplotlib.pyplot as plt\n",
    "np.random.seed(2)"
   ]
  },
  {
   "cell_type": "code",
   "execution_count": 3,
   "metadata": {},
   "outputs": [],
   "source": [
    "def grad(x):\n",
    "    return 2*x\n",
    "\n",
    "def cost(x):\n",
    "    return x**2\n",
    "\n",
    "def myGD1(eta, x0):\n",
    "    x = [x0]\n",
    "    y = [x0**2]\n",
    "    for it in range(100):\n",
    "        x_new = x[-1] - eta*grad(x[-1])\n",
    "        if abs(grad(x_new)) < 1e-3:\n",
    "            break\n",
    "        x.append(x_new)\n",
    "        y.append(y)\n",
    "    return (x,y,it)\n",
    "\n",
    "def draw(x,y):\n",
    "    x_plot = np.linspace(-5,5,100)\n",
    "    plt.plot(x_plot,cost(x_plot),label=\"$x^2$\")\n",
    "    plt.scatter(x,y,c=\"r\")\n",
    "    plt.xlabel(\"x\")\n",
    "    plt.ylabel(\"y\")\n",
    "    plt.show"
   ]
  },
  {
   "cell_type": "code",
   "execution_count": null,
   "metadata": {},
   "outputs": [],
   "source": [
    "(x1,y1,it1) = myGD1(.2, 2)\n",
    "print('Solution x1 = %f, cost = %f, obtained after %d iterations'%(x1[-1], cost(x1[-1]), it1))\n",
    "draw(x1,y1)"
   ]
  },
  {
   "cell_type": "code",
   "execution_count": null,
   "metadata": {},
   "outputs": [],
   "source": [
    "(x2,y2,it2) = myGD1(1, 2)\n",
    "print('Solution x1 = %f, cost = %f, obtained after %d iterations'%(x2[-1], cost(x2[-1]), it2))\n",
    "draw(x2,y2)"
   ]
  },
  {
   "cell_type": "markdown",
   "metadata": {},
   "source": [
    "Exercise 4"
   ]
  },
  {
   "cell_type": "code",
   "execution_count": 124,
   "metadata": {},
   "outputs": [],
   "source": [
    "import numpy as np\n",
    "import pandas as pd\n",
    "import matplotlib.pyplot as plt\n",
    "#load data\n",
    "url = 'https://raw.githubusercontent.com/nttuan8/DL_Tutorial/master/L2/dataset.csv'\n",
    "data = pd.read_csv(url, error_bad_lines=False).values"
   ]
  },
  {
   "cell_type": "code",
   "execution_count": 143,
   "metadata": {
    "scrolled": true
   },
   "outputs": [
    {
     "data": {
      "image/png": "[encoded data removed]",
      "text/plain": [
       "<Figure size 432x288 with 1 Axes>"
      ]
     },
     "metadata": {
      "needs_background": "light"
     },
     "output_type": "display_data"
    }
   ],
   "source": [
    "def sigmoid(x):\n",
    "    return 1/(1+np.exp(-x))\n",
    "\n",
    "N,d = data.shape\n",
    "x = data[:, 0:d-1].reshape(-1,d-1)\n",
    "y = data[:,-1].reshape(-1,1)\n",
    "\n",
    "x_yes = x[y[:,0]==1]\n",
    "x_no = x[y[:,0]==0]\n",
    "\n",
    "plt.scatter(x_yes[:,0],x_yes[:,1],c = \"g\",label = \"cho vay\")\n",
    "plt.scatter(x_no[:,0],x_no[:,1],c = \"r\",label = \"tu choi\")\n",
    "plt.legend(loc=1)\n",
    "plt.xlabel('mức lương')\n",
    "plt.ylabel('kinh nghiệm')\n",
    "\n",
    "x = np.hstack((np.ones((N,1)),x)) #tại sao cái này phải có 2 ngoặc\n",
    "w = np.array([0.,0.1,0.1]).reshape(-1,1) #khởi tạo giá trị của w\n",
    "\n",
    "iter = 1000\n",
    "cost = np.zeros((iter,1))\n",
    "learning = 0.01\n",
    "\n",
    "for i in range(1,iter):\n",
    "    y_predict = sigmoid(np.dot(x,w))\n",
    "    cost[i] = -np.sum(np.multiply(y,np.log(y_predict))+np.multiply(1-y,np.log(1-y_predict)))\n",
    "    w = w - learning*np.dot(x.T,y_predict - y)    \n",
    "t = 0.5\n",
    "plt.plot((4, 10),(-(w[0]+4*w[1]+ np.log(1/t-1))/w[2], -(w[0] + 10*w[1]+ np.log(1/t-1))/w[2]), 'g')\n",
    "plt.show()"
   ]
  },
  {
   "cell_type": "code",
   "execution_count": 164,
   "metadata": {},
   "outputs": [
    {
     "name": "stdout",
     "output_type": "stream",
     "text": [
      "in case salary 2 and time 3, the percentage to accept is 0.992852\n"
     ]
    }
   ],
   "source": [
    "x1 = np.array([1,2,3])\n",
    "y1 = sigmoid(np.dot(x1,w))\n",
    "print(\"in case salary %d and time %d, the percentage to accept is %f\"%(x1[1],x1[2],y1))"
   ]
  },
  {
   "cell_type": "code",
   "execution_count": 165,
   "metadata": {},
   "outputs": [
    {
     "name": "stdout",
     "output_type": "stream",
     "text": [
      "in case salary 1 and time 8, the percentage to accept is 1.000000\n"
     ]
    }
   ],
   "source": [
    "x2 = np.array([1,1,8])\n",
    "y2 = sigmoid(np.dot(x2,w))\n",
    "print(\"in case salary %d and time %d, the percentage to accept is %f\"%(x2[1],x2[2],y2))"
   ]
  },
  {
   "cell_type": "code",
   "execution_count": 166,
   "metadata": {
    "scrolled": true
   },
   "outputs": [
    {
     "name": "stdout",
     "output_type": "stream",
     "text": [
      "in case salary 5 and time 5, the percentage to accept is 0.999999\n"
     ]
    }
   ],
   "source": [
    "x3 = np.array([1,5,5])\n",
    "y3 = sigmoid(np.dot(x3,w))\n",
    "print(\"in case salary %d and time %d, the percentage to accept is %f\"%(x3[1],x3[2],y3))"
   ]
  },
  {
   "cell_type": "code",
   "execution_count": null,
   "metadata": {},
   "outputs": [],
   "source": []
  }
 ],
 "metadata": {
  "kernelspec": {
   "display_name": "Python 3",
   "language": "python",
   "name": "python3"
  },
  "language_info": {
   "codemirror_mode": {
    "name": "ipython",
    "version": 3
   },
   "file_extension": ".py",
   "mimetype": "text/x-python",
   "name": "python",
   "nbconvert_exporter": "python",
   "pygments_lexer": "ipython3",
   "version": "3.8.5"
  }
 },
 "nbformat": 4,
 "nbformat_minor": 4
}
